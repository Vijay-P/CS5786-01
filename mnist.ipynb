{
 "cells": [
  {
   "cell_type": "code",
   "execution_count": 13,
   "metadata": {
    "collapsed": true
   },
   "outputs": [],
   "source": [
    "\n",
    "from matplotlib import pyplot as plot\n",
    "import numpy as np\n",
    "from scipy.spatial import distance\n",
    "from sklearn.metrics import euclidean_distances\n",
    "import pandas as pd\n",
    "import random as rn\n",
    "%matplotlib inline"
   ]
  },
  {
   "cell_type": "code",
   "execution_count": 2,
   "metadata": {
    "collapsed": true
   },
   "outputs": [],
   "source": [
    "gridify_digit = lambda df, index: np.split(np.asarray(df.ix[index, 1:]), 28)\n",
    "vectorize_digit = lambda df, index: np.asarray(df.ix[index, 1:])"
   ]
  },
  {
   "cell_type": "code",
   "execution_count": 3,
   "metadata": {
    "collapsed": true
   },
   "outputs": [],
   "source": [
    "def one_of_each_digit(df, out_transx=gridify_digit):\n",
    "    \"\"\"\n",
    "    Randomly picks one of each digit, generates a grid of\n",
    "    it's pixels and returns a map from digit to pixels.\n",
    "\n",
    "    :param df: a dataframe containting the full dataset\n",
    "    :param out_transx: formats the pixels in the resultant\n",
    "    map. Should be a function: (dataframe,index) → numpy\n",
    "    array. By default this is `gridify_digits`\n",
    "\n",
    "    :return: a map containing the digits 0-9 as the keys and\n",
    "    a values as a tuple: (the pixels, the `id` the\n",
    "    image from the dataset; i.e. 1 - 42000))\n",
    "    \"\"\"\n",
    "    digits = dict(map(lambda i: (i, None), range(0, 10)))\n",
    "\n",
    "    while not all(digits.values()):\n",
    "\n",
    "        idx = rn.randrange(TRAINING_SIZE)\n",
    "        digit = df.ix[idx, 0]\n",
    "\n",
    "        if not digits[digit]:\n",
    "            digits.update({digit: (out_transx(df, idx), idx)})\n",
    "\n",
    "    return digits\n"
   ]
  },
  {
   "cell_type": "code",
   "execution_count": 4,
   "metadata": {
    "collapsed": true
   },
   "outputs": [],
   "source": [
    "def plot_one_vec_of_each_digit(df):\n",
    "    random_digits = one_of_each_digit(df, vectorize_digit)\n",
    "\n",
    "    fig = plot.figure()\n",
    "    fig.suptitle(\"Vector of Each Digit, Randomly Selected\")\n",
    "\n",
    "    data = np.asarray(list(map(lambda t: t[0], random_digits.values())))\n",
    "\n",
    "    plot.imshow(data, cmap=\"gray_r\", aspect=20)\n",
    "    plot.yticks(range(0, 10, 1))\n",
    "    plot.show()"
   ]
  },
  {
   "cell_type": "code",
   "execution_count": 10,
   "metadata": {
    "collapsed": true
   },
   "outputs": [],
   "source": [
    "def display_digit(p, grid):\n",
    "    p.imshow(grid, cmap=\"gray_r\")\n",
    "\n",
    "    p.tick_params(\n",
    "        axis='y',\n",
    "        which='both',\n",
    "        left='off',\n",
    "        right='off',\n",
    "        labelleft='off',\n",
    "        labelright='off')\n",
    "\n",
    "    p.tick_params(\n",
    "        axis='x',\n",
    "        which='both',\n",
    "        top='off',\n",
    "        bottom='off',\n",
    "        labeltop='off',\n",
    "        labelbottom='off')"
   ]
  },
  {
   "cell_type": "code",
   "execution_count": 17,
   "metadata": {
    "collapsed": true
   },
   "outputs": [],
   "source": [
    "df0 = pd.read_csv(\"./kaggle_mnist_dataset/train.csv\")\n",
    "TRAINING_SIZE = 42000"
   ]
  },
  {
   "cell_type": "code",
   "execution_count": 14,
   "metadata": {},
   "outputs": [
    {
     "name": "stderr",
     "output_type": "stream",
     "text": [
      "/home/thomas/anaconda3/lib/python3.6/site-packages/ipykernel_launcher.py:1: DeprecationWarning: \n",
      ".ix is deprecated. Please use\n",
      ".loc for label based indexing or\n",
      ".iloc for positional indexing\n",
      "\n",
      "See the documentation here:\n",
      "http://pandas.pydata.org/pandas-docs/stable/indexing.html#deprecate_ix\n",
      "  \"\"\"Entry point for launching an IPython kernel.\n"
     ]
    },
    {
     "data": {
      "image/png": "[encoded data removed]",
      "text/plain": [
       "<matplotlib.figure.Figure at 0x7f6f159c0c18>"
      ]
     },
     "metadata": {},
     "output_type": "display_data"
    }
   ],
   "source": [
    "display_digit(plot, gridify_digit(df0, 8))"
   ]
  },
  {
   "cell_type": "code",
   "execution_count": 18,
   "metadata": {},
   "outputs": [
    {
     "name": "stderr",
     "output_type": "stream",
     "text": [
      "/home/thomas/anaconda3/lib/python3.6/site-packages/ipykernel_launcher.py:20: DeprecationWarning: \n",
      ".ix is deprecated. Please use\n",
      ".loc for label based indexing or\n",
      ".iloc for positional indexing\n",
      "\n",
      "See the documentation here:\n",
      "http://pandas.pydata.org/pandas-docs/stable/indexing.html#deprecate_ix\n"
     ]
    },
    {
     "data": {
      "image/png": "[encoded data removed]",
      "text/plain": [
       "<matplotlib.figure.Figure at 0x7f6f15ab0f60>"
      ]
     },
     "metadata": {},
     "output_type": "display_data"
    }
   ],
   "source": [
    "def plot_one_vec_of_each_digit(df):\n",
    "    random_digits = one_of_each_digit(df, vectorize_digit)\n",
    "\n",
    "    fig = plot.figure()\n",
    "    fig.suptitle(\"Vector of Each Digit, Randomly Selected\")\n",
    "\n",
    "    data = np.asarray(list(map(lambda t: t[0], random_digits.values())))\n",
    "\n",
    "    plot.imshow(data, cmap=\"gray_r\", aspect=20)\n",
    "    plot.yticks(range(0, 10, 1))\n",
    "    plot.show()\n",
    "\n",
    "plot_one_vec_of_each_digit(df0)"
   ]
  },
  {
   "cell_type": "code",
   "execution_count": 19,
   "metadata": {},
   "outputs": [
    {
     "data": {
      "image/png": "[encoded data removed]",
      "text/plain": [
       "<matplotlib.figure.Figure at 0x7f6f15b30c18>"
      ]
     },
     "metadata": {},
     "output_type": "display_data"
    }
   ],
   "source": [
    "def save_one_grid_of_each_digit(df):\n",
    "    random_digits = one_of_each_digit(df)\n",
    "\n",
    "    fig = plot.figure()\n",
    "    fig.suptitle(\"Grid of Each Digit, Randomly Selected\")\n",
    "\n",
    "    for d in random_digits:\n",
    "        p = fig.add_subplot(2, 5, d + 1)\n",
    "        display_digit(p, random_digits[d][0])\n",
    "        p.title.set_text(\"#%d\\nDigit=%d\" % (random_digits[d][1], d))\n",
    "\n",
    "    fig.savefig(\"one_grid_x_each_digit.png\")\n",
    "\n",
    "save_one_grid_of_each_digit(df0)"
   ]
  }
 ],
 "metadata": {
  "kernelspec": {
   "display_name": "Python 3",
   "language": "python",
   "name": "python3"
  },
  "language_info": {
   "codemirror_mode": {
    "name": "ipython",
    "version": 3
   },
   "file_extension": ".py",
   "mimetype": "text/x-python",
   "name": "python",
   "nbconvert_exporter": "python",
   "pygments_lexer": "ipython3",
   "version": "3.6.1"
  }
 },
 "nbformat": 4,
 "nbformat_minor": 1
}
