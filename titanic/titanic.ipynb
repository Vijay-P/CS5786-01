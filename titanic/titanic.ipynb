{
 "cells": [
  {
   "cell_type": "code",
   "execution_count": 49,
   "metadata": {
    "collapsed": true
   },
   "outputs": [],
   "source": [
    "from sklearn.linear_model import LogisticRegression\n",
    "from sklearn.feature_extraction import DictVectorizer\n",
    "from sklearn.preprocessing import Imputer\n",
    "import pandas as pd\n",
    "\n",
    "def write_result(result):\n",
    "    with open('result.csv', 'w+') as f:\n",
    "        f.write(\"PassengerId,Survived\\n\")\n",
    "        for row in result:\n",
    "            f.write(\" %d,%d\\n\" % row)\n",
    "\n",
    "classifier = LogisticRegression(C=1,\n",
    "                                penalty='l2',\n",
    "                                tol=0.01)\n",
    "\n",
    "imputer = Imputer(missing_values='NaN', strategy='mean', axis=0)\n",
    "\n",
    "dropped_columns = ['PassengerId',\n",
    "                   'Name',\n",
    "                   'Ticket',\n",
    "                   'Fare',\n",
    "                   #'Cabin',\n",
    "                   'Embarked']\n",
    "\n",
    "df_train = pd.read_csv(\"./titanic_data/train.csv\")\n",
    "df_test = pd.read_csv(\"./titanic_data/test.csv\")"
   ]
  },
  {
   "cell_type": "code",
   "execution_count": 50,
   "metadata": {},
   "outputs": [],
   "source": [
    "df_train_dropped = df_train.drop( dropped_columns, axis = 1 )\n",
    "df_test_dropped = df_train.drop( dropped_columns, axis = 1 )"
   ]
  },
  {
   "cell_type": "code",
   "execution_count": 51,
   "metadata": {},
   "outputs": [
    {
     "data": {
      "text/plain": [
       "DictVectorizer(dtype=<class 'numpy.float64'>, separator='=', sort=True,\n",
       "        sparse=True)"
      ]
     },
     "execution_count": 51,
     "metadata": {},
     "output_type": "execute_result"
    }
   ],
   "source": [
    "vectorizer = DictVectorizer()\n",
    "vectorizer.fit(df_train_dropped.to_dict(orient='records'))\n",
    "vectorizer.fit(df_test_dropped.to_dict(orient='records'))"
   ]
  },
  {
   "cell_type": "code",
   "execution_count": 53,
   "metadata": {},
   "outputs": [
    {
     "data": {
      "text/plain": [
       "<891x155 sparse matrix of type '<class 'numpy.float64'>'\n",
       "\twith 5346 stored elements in Compressed Sparse Row format>"
      ]
     },
     "execution_count": 53,
     "metadata": {},
     "output_type": "execute_result"
    }
   ],
   "source": [
    "vectorizer.get_feature_names()\n",
    "\n",
    "train_vectorized = vectorizer.transform(train_dict_dropped)\n",
    "\n",
    "# df_test_features = df_test.drop(dropped_columns,axis=1)\n",
    "# \n",
    "# df_train_features = df_train.drop(dropped_columns + [\"Survived\"], axis=1)\n",
    "# \n",
    "# df_train_survived = df_train.iloc[:,1]\n",
    "# \n",
    "# df_train_features = pd.get_dummies(df_train_features)\n",
    "# df_test_features = pd.get_dummies(df_test_features)\n",
    "# \n",
    "# df_test_idx = df_test.iloc[:,0]\n",
    "# \n",
    "# df_train_features = imputer.fit_transform(df_train_features)\n",
    "# df_test_features = imputer.fit_transform(df_test_features)\n",
    "# \n",
    "# classifier.fit(df_train_features, df_train_survived)\n",
    "# classifier.score(df_train_features, df_train_survived)\n",
    "# \n",
    "# classifier.predict(df_test_features)\n",
    "# result_labels = classifier.predict(df_test_features)\n",
    "# \n",
    "# ys = zip(df_test_idx,result_labels)\n",
    "# \n",
    "# write_result(ys)\n",
    "# \n",
    "# \n",
    "# print('Done!')\n"
   ]
  }
 ],
 "metadata": {
  "kernelspec": {
   "display_name": "Python 3",
   "language": "python",
   "name": "python3"
  },
  "language_info": {
   "codemirror_mode": {
    "name": "ipython",
    "version": 3
   },
   "file_extension": ".py",
   "mimetype": "text/x-python",
   "name": "python",
   "nbconvert_exporter": "python",
   "pygments_lexer": "ipython3",
   "version": "3.6.1"
  }
 },
 "nbformat": 4,
 "nbformat_minor": 1
}
